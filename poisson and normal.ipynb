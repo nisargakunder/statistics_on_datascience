{
 "cells": [
  {
   "cell_type": "code",
   "execution_count": 6,
   "id": "fdfee65d",
   "metadata": {},
   "outputs": [
    {
     "data": {
      "image/png": "[encoded data removed]",
      "text/plain": [
       "<Figure size 432x288 with 1 Axes>"
      ]
     },
     "metadata": {
      "needs_background": "light"
     },
     "output_type": "display_data"
    },
    {
     "data": {
      "image/png": "[encoded data removed]",
      "text/plain": [
       "<Figure size 432x288 with 1 Axes>"
      ]
     },
     "metadata": {
      "needs_background": "light"
     },
     "output_type": "display_data"
    },
    {
     "data": {
      "image/png": "[encoded data removed]",
      "text/plain": [
       "<Figure size 432x288 with 1 Axes>"
      ]
     },
     "metadata": {
      "needs_background": "light"
     },
     "output_type": "display_data"
    }
   ],
   "source": [
    "import math\n",
    "import matplotlib.pyplot as plt\n",
    "import numpy as np\n",
    "def poisson(rate):\n",
    "    x=0\n",
    "    pmf=[]\n",
    "    prob=1\n",
    "    while prob>0.00000000000000000000000000001:\n",
    "      prob=math.exp(-rate)*pow(rate,x)/math.factorial(x)\n",
    "      pmf.append(prob)\n",
    "      x=x+1\n",
    "    n=np.arange(0,x)\n",
    "    plt.bar(n,pmf,width=1)\n",
    "    plt.show()\n",
    "poisson(2)\n",
    "poisson(5)\n",
    "poisson(30)\n",
    "    "
   ]
  },
  {
   "cell_type": "code",
   "execution_count": 8,
   "id": "b686fe79",
   "metadata": {},
   "outputs": [
    {
     "name": "stdout",
     "output_type": "stream",
     "text": [
      "z-score: 1.6448536269514722\n"
     ]
    }
   ],
   "source": [
    "import math\n",
    "\n",
    "\n",
    "import matplotlib.pyplot as plt\n",
    "import numpy as np\n",
    "from scipy.stats import norm\n",
    "area=0.95\n",
    "print(\"z-score:\",norm.ppf(area))"
   ]
  },
  {
   "cell_type": "code",
   "execution_count": 9,
   "id": "3f9ac7d8",
   "metadata": {},
   "outputs": [
    {
     "name": "stdout",
     "output_type": "stream",
     "text": [
      "finding P(z< 0.875 )\n",
      "area to left of x: 0.8092130471474893\n",
      "finding P(z> 0.875 )\n",
      "area to right of x: 0.19078695285251068\n"
     ]
    }
   ],
   "source": [
    "#given x~ n(mu,var) find probability\n",
    "import matplotlib.pyplot as plt\n",
    "import numpy as np\n",
    "from scipy.stats import norm\n",
    "mu=40\n",
    "x=47\n",
    "sigma=8\n",
    "z=(x-mu)/sigma\n",
    "print(\"finding P(z<\",z,\")\")\n",
    "print(\"area to left of x:\",norm.cdf(z))\n",
    "print(\"finding P(z>\",z,\")\")\n",
    "print(\"area to right of x:\",1-norm.cdf(z))\n",
    "\n"
   ]
  },
  {
   "cell_type": "code",
   "execution_count": 14,
   "id": "1af9112f",
   "metadata": {},
   "outputs": [
    {
     "name": "stdout",
     "output_type": "stream",
     "text": [
      "findimg P( -1.1 <z< 1.1 )\n",
      "area to the left of a: 0.13566606094638267\n",
      "area to the right of a: 0.8643339390536173\n",
      "area bw a and b is: 0.7286678781072347\n"
     ]
    }
   ],
   "source": [
    "from scipy.stats import norm\n",
    "\n",
    "def prob(a,b):\n",
    "    z1=(a-mu)/sigma\n",
    "    z2=(b-mu)/sigma\n",
    "    print(\"findimg P(\",z1,\"<z<\",z2,\")\")\n",
    "    print(\"area to the left of a:\",norm.cdf(z1))\n",
    "    print(\"area to the right of a:\",norm.cdf(z2))\n",
    "    print(\"area bw a and b is:\",norm.cdf(z2)-norm.cdf(z1))\n",
    "mu=50\n",
    "sigma=5\n",
    "prob(44.5,55.5)\n",
    "    "
   ]
  },
  {
   "cell_type": "code",
   "execution_count": null,
   "id": "3eca782f",
   "metadata": {},
   "outputs": [],
   "source": []
  }
 ],
 "metadata": {
  "kernelspec": {
   "display_name": "Python 3 (ipykernel)",
   "language": "python",
   "name": "python3"
  },
  "language_info": {
   "codemirror_mode": {
    "name": "ipython",
    "version": 3
   },
   "file_extension": ".py",
   "mimetype": "text/x-python",
   "name": "python",
   "nbconvert_exporter": "python",
   "pygments_lexer": "ipython3",
   "version": "3.9.12"
  }
 },
 "nbformat": 4,
 "nbformat_minor": 5
}
